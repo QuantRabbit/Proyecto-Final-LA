{
 "cells": [
  {
   "cell_type": "markdown",
   "metadata": {},
   "source": [
    "# Proyecto: Análisis socioeconómico de Los Ángeles—crimen, negocios y bienes raíces\n",
    "\n",
    "## Objetivo\n",
    "\n",
    "Analizar la relación entre la tasa de crimen, actividad comercial y precios de bienes raíces en la ciudad de Los Ángeles utilizando datasets reales. \n",
    "Es necesario desarrollar indicadores que puedan relacionar las tres dimensiones de la ciudad. Para ello, el estudiante deberá utilizar los datos geoespaciales\n",
    "de los tres datasets para poder lograr la unión. \n",
    "\n",
    "## Contexto\n",
    "\n",
    "Eres el nuevo alcalde de Los Ángeles. Con una población de 3.8 millones de personas es difícil concentrarte en todos los problemas que ocurren en la ciudad. Sin embargo, a los angelinos les preocupa mayormente: \n",
    "\n",
    "* Crimen\n",
    "* Pequeños negocios (una economía ágil)\n",
    "* Precios de sus propiedades\n",
    "\n",
    "Los Ángeles se divide en ~114 vecindarios, esto te ayudará a dividir y conquistar el problema. Para que puedas apoyar al mayor número de personas, podrías responder preguntas como: \n",
    "\n",
    "* ¿Qué vecindarios tienen una mayor tasa de *muerte de negocios*?, ¿se relaciona con la tasa de crimen?\n",
    "* ¿Qué vecindarios tienen la mayor tasa de crimen?, ¿necesitan mayor atención policial?\n",
    "* ¿Está esto afectando a los precios de las propiedades?\n",
    "\n",
    "## Datasets\n",
    "\n",
    "1.  **Crime Data (2020-Present):** [link](https://data.lacity.org/Public-Safety/Crime-Data-from-2020-to-Present/2nrs-mtv8/about_data)\n",
    "    *   **Fuente:** Los Angeles Open Data portal \n",
    "    *   **Granularidad:** Nivel incidente, gravedad, tipo de crimen, fecha, hora, ubicación (con coordenadas), etc.\n",
    "    *   **Variables potenciales:**\n",
    "        *   Tasa de crimen por vecindario\n",
    "        *   Tipos de crimen (violentos vs. no violentos)\n",
    "        *   Frecuencia de tipos de crimen (por año)\n",
    "    *   **Nota:** Podríamos también usar 2010-2019 [link](https://data.lacity.org/Public-Safety/Crime-Data-from-2010-to-2019/63jg-8b9z/about_data)\n",
    "\n",
    "2.  **Negocios Activos e Inactivos:** [link](https://data.lacity.org/Administration-Finance/Listing-of-All-Businesses/r4uk-afju/about_data)\n",
    "    *   **Fuente:** Los Angeles Open Data portal\n",
    "    *   **Granularidad:** Negocio, dirección, nombre, tipo de negocio, fecha de inicio, fecha de cierre (si existe)\n",
    "    *   **Variables potenciales:**\n",
    "        *   Densidad de negocios (por vecindario o por kilómetro cuadrado)\n",
    "        *   Tipos de negocios (e.g., retail, restaurants, servicios)\n",
    "        *   Churn rate de negocios por vecindario\n",
    "        *   Edad promedio de los negocios\n",
    "\n",
    "3.  **Zillow Housing Prices:** [link](https://www.zillow.com/research/data/) \n",
    "    *   **Pasos para descarga**\n",
    "        *   Ir a Home Values\n",
    "        *   Geography: 'Neighborhood'\n",
    "        *   Data Type: 'ZHVI All Homes (SFR, Condo/Co-op) Time Series, Smoothed, Seasonally Adjusted($)'\n",
    "    *   **Fuente:** Zillow Research Data\n",
    "    *   **Granularidad:** Nivel vecindario, mes a mes, mediana del precio de las propiedades.\n",
    "    *   **Variables potenciales:**\n",
    "        *   Mediana del precio de las propiedades\n",
    "        *   Cambio de la mediana a través del tiempo en el vecindario (e.g., YoY)\n",
    "\n",
    "### Helper Datasets de los vecindarios\n",
    "\n",
    "4. **Área por vecindario:** [link](https://geohub.lacity.org/datasets/691805703915458da4b35d8088f29501_0/explore?location=34.019250%2C-118.411774%2C9.84)\n",
    "    *   *Helper Dataset* que servirá para obtener el área de un vecindario en millas cuadradas. \n",
    "\n",
    "5. **Coordenadas por vecindario:** [link](https://geohub.lacity.org/datasets/d6c55385a0e749519f238b77135eafac_0/explore?location=34.065299%2C-118.425582%2C11.05)\n",
    "    *   *Helper Dataset* que servirá para convertir las coordenadas en el dataset de crimen y dataset de Negocios en un **vecindario** y unir los datasets.\n",
    "\n",
    "6. **Población por vecindario:** [link](https://data.lacity.org/Community-Economic-Development/Census-Data-by-Neighborhood-Council/nwj3-ufba/about_data)\n",
    "    *   *Helper Dataset* que servirá para obtener variables demográficas como: población total y desglose de población por etnicidad. \n",
    "\n",
    "# Etapas del proyecto\n",
    "\n",
    "## Fase 1: Adquisición y Limpieza de datos\n",
    "\n",
    "1.  **Environment Setup:**\n",
    "    *   Instalación de librerías necesarias: pandas, numpy, geopandas, matplotlib, seaborn, sklearn, statsmodels. \n",
    "2.  **Adquisición de datos:**\n",
    "    *   Descarga de datasets.\n",
    "3.  **Exploración y limpieza de datos:**\n",
    "    *   **Dataset de crimen:**\n",
    "        *   Manejo de nulos\n",
    "        *   Manejo de variables geoespaciales\n",
    "        *   Manejo de variables categóricas (texto)\n",
    "        *   Manejo de variables de fecha\n",
    "    *   **Dataset de negocios**\n",
    "        *   Manejo de nulos\n",
    "        *   Manejo de variables geoespaciales\n",
    "        *   Manejo de variables categóricas (texto)\n",
    "        *   Manejo de variables de fecha\n",
    "    *   **Dataset de Zillow:**\n",
    "        *   Manejo de nulos\n",
    "        *   Manejo de variables categóricas (texto)\n",
    "        *   Manejo de variables de fecha\n",
    "4.  **Transformación e integración de datos:**\n",
    "    *   **Agregación Espacial:** \n",
    "        *   Los estudiantes tendrán que unir los datasets por medio del **vecindario**. Para ello, necesitarán correr un algoritmo, posiblemente provisto por el profesor para\n",
    "        que los pares de coordenadas se localicen dentro de un **vecindario**.\n",
    "\n",
    "## Fase 2: Análisis y diseño de indicadores\n",
    "\n",
    "1.  **Definición y cálculo de indicadores:**\n",
    "    *   Proponer al menos **cuatro KPIs** que capturen distintos aspectos de la relación entre crimen, negocios y bienes raíces en un vecindario. \n",
    "    *   Explica cada indicador, porqué crees que es relevante y porqué lo calculaste de esa manera. \n",
    "\n",
    "2.  **Perfil de un vecindario:**\n",
    "    *   Selecciona de 3-5 vecindarios con características contrastantes (e.g., alto y bajo crimen, alto y bajo valor de propiedades).\n",
    "    *   Describe sus características. \n",
    "\n",
    "## Fase 3: Análisis Avanzado\n",
    "\n",
    "1.  **Correlaciones:**\n",
    "    *   Calcula correlaciones entre indicadores, recuerda que **no** indican causalidad. \n",
    "    *   Visualiza las correlaciones. \n",
    "    *   ¿Tienen sentido?\n",
    "\n",
    "2.  **Regresión:**\n",
    "    *   Construye modelos de regresión para medir factores que pueden influenciar a variables.\n",
    "\n",
    "3.  **Análisis de clusters:**\n",
    "    *   Agrupa a los vecindarios de acuerdo a tus indicadores.\n",
    "    *   Determina el número óptimo de clusters utilizando las técnicas vistas en clase.\n",
    "    *   **Interpreta** los clusters.\n",
    "    *   Visualiza los clusters en un mapa. \n",
    "\n",
    "4.  **SEM:**\n",
    "    *   Utilizando tus KPIs, determina una variable latente como la felicidad de los habitantes del vecindario.\n",
    "    *   Utiliza SEM para medir esa variable. \n",
    "    *   ¿Tiene sentido?\n",
    "\n",
    "5.  **Series de tiempo:**\n",
    "    *   Analiza las tendencias en tus KPIs.\n",
    "    *   Utiliza series de tiempo para identificar tendencias, temporalidad y patrones cíclicos, si es que aplica. \n",
    "    *   Potencialmente, podrías aplicar técnicas para hacer un forecast de futuras tendencias. \n",
    "\n",
    "# Evaluación\n",
    "\n",
    "*   **Adquisición y Limpieza de datos (15%)**\n",
    "*   **Análisis y Diseño de Indicadores (25%)** \n",
    "*   **Análisis Avanzado (40%)**\n",
    "*   **Presentación de Resultados (20%)**\n",
    "\n",
    "**Entregables:**\n",
    "\n",
    "*   **Presentación Ejecutiva**\n",
    "    *   Presentación al grupo"
   ]
  },
  {
   "cell_type": "markdown",
   "metadata": {
    "vscode": {
     "languageId": "plaintext"
    }
   },
   "source": [
    "4.  **Transformación e integración de datos:**\n",
    "    *   **Agregación Espacial:** \n",
    "        *   Los estudiantes tendrán que unir los datasets por medio del **vecindario**. Para ello, necesitarán correr un algoritmo, posiblemente provisto por el profesor para\n",
    "        que los pares de coordenadas se localicen dentro de un **vecindario**.\n"
   ]
  },
  {
   "cell_type": "code",
   "execution_count": 6,
   "metadata": {},
   "outputs": [],
   "source": [
    "# 1. Environment Setup: Instalación de librerías necesarias: pandas, numpy, geopandas, matplotlib, seaborn, sklearn, statsmodels.\n",
    "import pandas as pd, numpy, geopandas as gpd, matplotlib, seaborn, sklearn, statsmodels"
   ]
  },
  {
   "cell_type": "code",
   "execution_count": 7,
   "metadata": {},
   "outputs": [],
   "source": [
    "# 2. Adquisición de datos: Descarga de datasets.\n",
    "\n",
    "# Crime Data from 2020 to Present\n",
    "url_csv = \"https://data.lacity.org/api/views/2nrs-mtv8/rows.csv?accessType=DOWNLOAD\"\n",
    "df_crime_data = pd.read_csv(url_csv)\n",
    "\n",
    "# Listing of All Businesses\n",
    "url_csv = \"https://data.lacity.org/api/views/r4uk-afju/rows.csv?accessType=DOWNLOAD\"\n",
    "df_listinig_businesses = pd.read_csv(url_csv)\n",
    "\n",
    "# Housing Data\n",
    "url_zhvi = \"https://files.zillowstatic.com/research/public_csvs/zhvi/Metro_zhvi_uc_sfrcondo_tier_0.33_0.67_sm_sa_month.csv?t=1746293544\"\n",
    "df_housing_data = pd.read_csv(url_zhvi)\n",
    "\n",
    "# Neighborhood Demographics\n",
    "url_geojson = \"https://geohub.lacity.org/datasets/691805703915458da4b35d8088f29501_0.geojson\"\n",
    "gdf_neighborhood_demograph = gpd.read_file(url_geojson)\n",
    "\n",
    "# LA Times Neighborhood Boundaries\n",
    "url_geojson = \"https://geohub.lacity.org/datasets/d6c55385a0e749519f238b77135eafac_0.geojson\"\n",
    "gdf_neighborhood_boundaries = gpd.read_file(url_geojson)\n",
    "\n",
    "# Census Data by Neighborhood Council\n",
    "url_csv = \"https://data.lacity.org/api/views/nwj3-ufba/rows.csv?accessType=DOWNLOAD\"\n",
    "df_census_by_neighborhood = pd.read_csv(url_csv)"
   ]
  },
  {
   "cell_type": "code",
   "execution_count": 9,
   "metadata": {},
   "outputs": [
    {
     "name": "stdout",
     "output_type": "stream",
     "text": [
      "<class 'pandas.core.frame.DataFrame'>\n",
      "RangeIndex: 1005109 entries, 0 to 1005108\n",
      "Data columns (total 28 columns):\n",
      " #   Column          Non-Null Count    Dtype  \n",
      "---  ------          --------------    -----  \n",
      " 0   DR_NO           1005109 non-null  int64  \n",
      " 1   Date Rptd       1005109 non-null  object \n",
      " 2   DATE OCC        1005109 non-null  object \n",
      " 3   TIME OCC        1005109 non-null  int64  \n",
      " 4   AREA            1005109 non-null  int64  \n",
      " 5   AREA NAME       1005109 non-null  object \n",
      " 6   Rpt Dist No     1005109 non-null  int64  \n",
      " 7   Part 1-2        1005109 non-null  int64  \n",
      " 8   Crm Cd          1005109 non-null  int64  \n",
      " 9   Crm Cd Desc     1005109 non-null  object \n",
      " 10  Mocodes         853403 non-null   object \n",
      " 11  Vict Age        1005109 non-null  int64  \n",
      " 12  Vict Sex        860379 non-null   object \n",
      " 13  Vict Descent    860367 non-null   object \n",
      " 14  Premis Cd       1005093 non-null  float64\n",
      " 15  Premis Desc     1004521 non-null  object \n",
      " 16  Weapon Used Cd  327259 non-null   float64\n",
      " 17  Weapon Desc     327259 non-null   object \n",
      " 18  Status          1005108 non-null  object \n",
      " 19  Status Desc     1005109 non-null  object \n",
      " 20  Crm Cd 1        1005098 non-null  float64\n",
      " 21  Crm Cd 2        69154 non-null    float64\n",
      " 22  Crm Cd 3        2314 non-null     float64\n",
      " 23  Crm Cd 4        64 non-null       float64\n",
      " 24  LOCATION        1005109 non-null  object \n",
      " 25  Cross Street    154237 non-null   object \n",
      " 26  LAT             1005109 non-null  float64\n",
      " 27  LON             1005109 non-null  float64\n",
      "dtypes: float64(8), int64(7), object(13)\n",
      "memory usage: 214.7+ MB\n"
     ]
    }
   ],
   "source": [
    "df_crime_data.info()"
   ]
  },
  {
   "cell_type": "code",
   "execution_count": 10,
   "metadata": {},
   "outputs": [
    {
     "name": "stdout",
     "output_type": "stream",
     "text": [
      "<class 'pandas.core.frame.DataFrame'>\n",
      "RangeIndex: 1607924 entries, 0 to 1607923\n",
      "Data columns (total 16 columns):\n",
      " #   Column                     Non-Null Count    Dtype  \n",
      "---  ------                     --------------    -----  \n",
      " 0   LOCATION ACCOUNT #         1607924 non-null  object \n",
      " 1   BUSINESS NAME              1607924 non-null  object \n",
      " 2   DBA NAME                   246256 non-null   object \n",
      " 3   STREET ADDRESS             1607822 non-null  object \n",
      " 4   CITY                       1607814 non-null  object \n",
      " 5   ZIP CODE                   1607924 non-null  object \n",
      " 6   LOCATION DESCRIPTION       1607801 non-null  object \n",
      " 7   MAILING ADDRESS            369932 non-null   object \n",
      " 8   MAILING CITY               369944 non-null   object \n",
      " 9   MAILING ZIP CODE           369813 non-null   object \n",
      " 10  NAICS                      628889 non-null   float64\n",
      " 11  PRIMARY NAICS DESCRIPTION  628889 non-null   object \n",
      " 12  COUNCIL DISTRICT           1607924 non-null  int64  \n",
      " 13  LOCATION START DATE        1606366 non-null  object \n",
      " 14  LOCATION END DATE          1010611 non-null  object \n",
      " 15  LOCATION                   669732 non-null   object \n",
      "dtypes: float64(1), int64(1), object(14)\n",
      "memory usage: 196.3+ MB\n"
     ]
    }
   ],
   "source": [
    "df_listinig_businesses.info()"
   ]
  },
  {
   "cell_type": "code",
   "execution_count": 11,
   "metadata": {},
   "outputs": [
    {
     "name": "stdout",
     "output_type": "stream",
     "text": [
      "<class 'pandas.core.frame.DataFrame'>\n",
      "RangeIndex: 895 entries, 0 to 894\n",
      "Columns: 308 entries, RegionID to 2025-03-31\n",
      "dtypes: float64(303), int64(2), object(3)\n",
      "memory usage: 2.1+ MB\n"
     ]
    }
   ],
   "source": [
    "df_housing_data.info()"
   ]
  },
  {
   "cell_type": "code",
   "execution_count": 12,
   "metadata": {},
   "outputs": [
    {
     "name": "stdout",
     "output_type": "stream",
     "text": [
      "<class 'geopandas.geodataframe.GeoDataFrame'>\n",
      "RangeIndex: 138 entries, 0 to 137\n",
      "Data columns (total 9 columns):\n",
      " #   Column          Non-Null Count  Dtype   \n",
      "---  ------          --------------  -----   \n",
      " 0   objectid        138 non-null    int32   \n",
      " 1   name            138 non-null    object  \n",
      " 2   description     138 non-null    object  \n",
      " 3   infographic     138 non-null    object  \n",
      " 4   site_area_type  138 non-null    object  \n",
      " 5   COMMUNITY       138 non-null    object  \n",
      " 6   Shape__Area     138 non-null    float64 \n",
      " 7   Shape__Length   138 non-null    float64 \n",
      " 8   geometry        138 non-null    geometry\n",
      "dtypes: float64(2), geometry(1), int32(1), object(5)\n",
      "memory usage: 9.3+ KB\n"
     ]
    }
   ],
   "source": [
    "gdf_neighborhood_demograph.info()"
   ]
  },
  {
   "cell_type": "code",
   "execution_count": 13,
   "metadata": {},
   "outputs": [
    {
     "name": "stdout",
     "output_type": "stream",
     "text": [
      "<class 'geopandas.geodataframe.GeoDataFrame'>\n",
      "RangeIndex: 114 entries, 0 to 113\n",
      "Data columns (total 3 columns):\n",
      " #   Column    Non-Null Count  Dtype   \n",
      "---  ------    --------------  -----   \n",
      " 0   OBJECTID  114 non-null    int32   \n",
      " 1   name      114 non-null    object  \n",
      " 2   geometry  114 non-null    geometry\n",
      "dtypes: geometry(1), int32(1), object(1)\n",
      "memory usage: 2.4+ KB\n"
     ]
    }
   ],
   "source": [
    "gdf_neighborhood_boundaries.info()"
   ]
  },
  {
   "cell_type": "code",
   "execution_count": 14,
   "metadata": {},
   "outputs": [
    {
     "name": "stdout",
     "output_type": "stream",
     "text": [
      "<class 'pandas.core.frame.DataFrame'>\n",
      "RangeIndex: 97 entries, 0 to 96\n",
      "Data columns (total 13 columns):\n",
      " #   Column            Non-Null Count  Dtype  \n",
      "---  ------            --------------  -----  \n",
      " 0   NC_Name           97 non-null     object \n",
      " 1   Total Population  97 non-null     float64\n",
      " 2   White_pop         97 non-null     float64\n",
      " 3   Black_pop         97 non-null     float64\n",
      " 4   Ameri_es_pop      97 non-null     float64\n",
      " 5   Asian_pop         97 non-null     float64\n",
      " 6   Hawn_pi_pop       97 non-null     float64\n",
      " 7   Hispanic_pop      0 non-null      float64\n",
      " 8   Other_pop         97 non-null     float64\n",
      " 9   Multi_pop         97 non-null     float64\n",
      " 10  In_Poverty        97 non-null     float64\n",
      " 11  Owner_occ         97 non-null     float64\n",
      " 12  Renter_occ        97 non-null     float64\n",
      "dtypes: float64(12), object(1)\n",
      "memory usage: 10.0+ KB\n"
     ]
    }
   ],
   "source": [
    "df_census_by_neighborhood.info()"
   ]
  },
  {
   "cell_type": "markdown",
   "metadata": {},
   "source": [
    "3.  **Exploración y limpieza de datos:**\n",
    "    *   **Dataset de crimen:**\n",
    "        *   Manejo de nulos\n",
    "        *   Manejo de variables geoespaciales\n",
    "        *   Manejo de variables categóricas (texto)\n",
    "        *   Manejo de variables de fecha\n",
    "    *   **Dataset de negocios**\n",
    "        *   Manejo de nulos\n",
    "        *   Manejo de variables geoespaciales\n",
    "        *   Manejo de variables categóricas (texto)\n",
    "        *   Manejo de variables de fecha\n",
    "    *   **Dataset de Zillow:**\n",
    "        *   Manejo de nulos\n",
    "        *   Manejo de variables categóricas (texto)\n",
    "        *   Manejo de variables de fecha"
   ]
  },
  {
   "cell_type": "code",
   "execution_count": 16,
   "metadata": {},
   "outputs": [
    {
     "name": "stdout",
     "output_type": "stream",
     "text": [
      "Crm Cd 4          1005045\n",
      "Crm Cd 3          1002795\n",
      "Crm Cd 2           935955\n",
      "Cross Street       850872\n",
      "Weapon Used Cd     677850\n",
      "Weapon Desc        677850\n",
      "Mocodes            151706\n",
      "Vict Descent       144742\n",
      "Vict Sex           144730\n",
      "Premis Desc           588\n",
      "dtype: int64\n"
     ]
    }
   ],
   "source": [
    "print(df_crime_data.isna().sum().sort_values(ascending=False).head(10))"
   ]
  },
  {
   "cell_type": "code",
   "execution_count": 18,
   "metadata": {},
   "outputs": [
    {
     "name": "stdout",
     "output_type": "stream",
     "text": [
      "DBA NAME                     1361668\n",
      "MAILING ZIP CODE             1238111\n",
      "MAILING ADDRESS              1237992\n",
      "MAILING CITY                 1237980\n",
      "NAICS                         979035\n",
      "PRIMARY NAICS DESCRIPTION     979035\n",
      "LOCATION                      938192\n",
      "LOCATION END DATE             597313\n",
      "LOCATION START DATE             1558\n",
      "LOCATION DESCRIPTION             123\n",
      "dtype: int64\n"
     ]
    }
   ],
   "source": [
    "print(df_listinig_businesses.isna().sum().sort_values(ascending=False).head(10))"
   ]
  },
  {
   "cell_type": "code",
   "execution_count": 19,
   "metadata": {},
   "outputs": [
    {
     "name": "stdout",
     "output_type": "stream",
     "text": [
      "2000-01-31    464\n",
      "2000-02-29    463\n",
      "2000-03-31    462\n",
      "2000-04-30    460\n",
      "2000-05-31    458\n",
      "2000-06-30    457\n",
      "2000-07-31    456\n",
      "2000-08-31    455\n",
      "2000-09-30    454\n",
      "2000-10-31    454\n",
      "dtype: int64\n"
     ]
    }
   ],
   "source": [
    "print(df_housing_data.isna().sum().sort_values(ascending=False).head(10))"
   ]
  },
  {
   "cell_type": "code",
   "execution_count": 20,
   "metadata": {},
   "outputs": [
    {
     "name": "stdout",
     "output_type": "stream",
     "text": [
      "objectid          0\n",
      "name              0\n",
      "description       0\n",
      "infographic       0\n",
      "site_area_type    0\n",
      "COMMUNITY         0\n",
      "Shape__Area       0\n",
      "Shape__Length     0\n",
      "geometry          0\n",
      "dtype: int64\n"
     ]
    }
   ],
   "source": [
    "print(gdf_neighborhood_demograph.isna().sum().sort_values(ascending=False).head(10))"
   ]
  }
 ],
 "metadata": {
  "kernelspec": {
   "display_name": "base",
   "language": "python",
   "name": "python3"
  },
  "language_info": {
   "codemirror_mode": {
    "name": "ipython",
    "version": 3
   },
   "file_extension": ".py",
   "mimetype": "text/x-python",
   "name": "python",
   "nbconvert_exporter": "python",
   "pygments_lexer": "ipython3",
   "version": "3.12.4"
  }
 },
 "nbformat": 4,
 "nbformat_minor": 2
}
